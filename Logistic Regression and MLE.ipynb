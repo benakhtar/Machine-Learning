{
  "cells": [
    {
      "cell_type": "markdown",
      "metadata": {
        "id": "cc8gZLT6WX7m"
      },
      "source": [
        "# CS-5824 / Advanced Machine Learning\n",
        "# Assignment 1 Section B [ 40 Points ]"
      ]
    },
    {
      "cell_type": "markdown",
      "metadata": {
        "id": "7isVWMS9WX7p"
      },
      "source": [
        "In this assignment, **you need to complete three sections** which are based on:\n",
        "\n",
        "1. Logistic regression\n",
        "2. MLE\n",
        "3. Evaluation"
      ]
    },
    {
      "cell_type": "markdown",
      "metadata": {
        "id": "Yxhzck1aWX7q"
      },
      "source": [
        "## Submission guideline\n",
        "\n",
        "1. Click the Save button at the top of the Jupyter Notebook.\n",
        "2. Please make sure to have entered your Virginia Tech PID below.\n",
        "3. Select Edit -> Clear All Output. This will clear all the outputs from all cells (but will keep the content of ll cells).\n",
        "4. Select Runtime -> Restart and Run All. This will run all the cells in order.\n",
        "5. Once you've rerun everything, select File -> Print -> Save as PDF\n",
        "6. Look at the PDF file and make sure all your solutions are there, displayed correctly. \n",
        "7. Upload **both** the PDF file and this notebook.\n",
        "8. Please **DO NOT** upload any data."
      ]
    },
    {
      "cell_type": "markdown",
      "metadata": {
        "id": "5NM7VD6NWX7r"
      },
      "source": [
        "### Please Write Your VT PID Here: "
      ]
    },
    {
      "cell_type": "markdown",
      "metadata": {
        "id": "G7vN9PE-ZFvg"
      },
      "source": [
        "# Section 0. Environment Set Up"
      ]
    },
    {
      "cell_type": "code",
      "execution_count": null,
      "metadata": {
        "id": "B8HcRjRUYktI",
        "colab": {
          "base_uri": "https://localhost:8080/",
          "height": 824
        },
        "outputId": "1414831a-8635-4acf-821c-15a9afdb8f19"
      },
      "outputs": [
        {
          "output_type": "stream",
          "name": "stdout",
          "text": [
            "Looking in indexes: https://pypi.org/simple, https://us-python.pkg.dev/colab-wheels/public/simple/\n",
            "Collecting scipy==1.1.0\n",
            "  Downloading scipy-1.1.0-cp37-cp37m-manylinux1_x86_64.whl (31.2 MB)\n",
            "\u001b[K     |████████████████████████████████| 31.2 MB 37.7 MB/s \n",
            "\u001b[?25hCollecting Pillow==4.3.0\n",
            "  Downloading Pillow-4.3.0.tar.gz (13.9 MB)\n",
            "\u001b[K     |████████████████████████████████| 13.9 MB 21.3 MB/s \n",
            "\u001b[?25hRequirement already satisfied: numpy>=1.8.2 in /usr/local/lib/python3.7/dist-packages (from scipy==1.1.0) (1.21.6)\n",
            "Collecting olefile\n",
            "  Downloading olefile-0.46.zip (112 kB)\n",
            "\u001b[K     |████████████████████████████████| 112 kB 41.1 MB/s \n",
            "\u001b[?25hBuilding wheels for collected packages: Pillow, olefile\n",
            "  Building wheel for Pillow (setup.py) ... \u001b[?25l\u001b[?25hdone\n",
            "  Created wheel for Pillow: filename=Pillow-4.3.0-cp37-cp37m-linux_x86_64.whl size=1064626 sha256=65bbb2cc06e97ed06967e4f245c7f350dc7dcaba899c4547f3fd4549fd3d9b77\n",
            "  Stored in directory: /root/.cache/pip/wheels/77/77/72/045aa57329073d3cdbd822995f8228c95d17cce12f1ca75f8f\n",
            "  Building wheel for olefile (setup.py) ... \u001b[?25l\u001b[?25hdone\n",
            "  Created wheel for olefile: filename=olefile-0.46-py2.py3-none-any.whl size=35432 sha256=509718be8edce02c8fde829f58f487a9d66ddc279d055f8c7127b511cf81d4e1\n",
            "  Stored in directory: /root/.cache/pip/wheels/84/53/e6/37d90ccb3ad1a3ca98d2b17107e9fda401a7c541ea1eb6a65a\n",
            "Successfully built Pillow olefile\n",
            "Installing collected packages: olefile, scipy, Pillow\n",
            "  Attempting uninstall: scipy\n",
            "    Found existing installation: scipy 1.7.3\n",
            "    Uninstalling scipy-1.7.3:\n",
            "      Successfully uninstalled scipy-1.7.3\n",
            "  Attempting uninstall: Pillow\n",
            "    Found existing installation: Pillow 7.1.2\n",
            "    Uninstalling Pillow-7.1.2:\n",
            "      Successfully uninstalled Pillow-7.1.2\n",
            "\u001b[31mERROR: pip's dependency resolver does not currently take into account all the packages that are installed. This behaviour is the source of the following dependency conflicts.\n",
            "torchvision 0.13.1+cu113 requires pillow!=8.3.*,>=5.3.0, but you have pillow 4.3.0 which is incompatible.\n",
            "pymc 4.1.4 requires scipy>=1.4.1, but you have scipy 1.1.0 which is incompatible.\n",
            "plotnine 0.8.0 requires scipy>=1.5.0, but you have scipy 1.1.0 which is incompatible.\n",
            "jaxlib 0.3.15+cuda11.cudnn805 requires scipy>=1.5, but you have scipy 1.1.0 which is incompatible.\n",
            "jax 0.3.17 requires scipy>=1.5, but you have scipy 1.1.0 which is incompatible.\n",
            "fastai 2.7.9 requires pillow>6.0.0, but you have pillow 4.3.0 which is incompatible.\n",
            "bokeh 2.3.3 requires pillow>=7.1.0, but you have pillow 4.3.0 which is incompatible.\n",
            "aeppl 0.0.33 requires scipy>=1.4.0, but you have scipy 1.1.0 which is incompatible.\u001b[0m\n",
            "Successfully installed Pillow-4.3.0 olefile-0.46 scipy-1.1.0\n"
          ]
        },
        {
          "output_type": "display_data",
          "data": {
            "application/vnd.colab-display-data+json": {
              "pip_warning": {
                "packages": [
                  "PIL"
                ]
              }
            }
          },
          "metadata": {}
        }
      ],
      "source": [
        "\n",
        "!pip install scipy==1.1.0 Pillow==4.3.0"
      ]
    },
    {
      "cell_type": "markdown",
      "metadata": {
        "id": "_Pja5zjFXwTp"
      },
      "source": [
        "Mount your google drive in google colab"
      ]
    },
    {
      "cell_type": "code",
      "execution_count": null,
      "metadata": {
        "id": "mdVPU9EUXvij",
        "colab": {
          "base_uri": "https://localhost:8080/"
        },
        "outputId": "6c22059d-c9c9-4e82-da32-a7ba43f7041b"
      },
      "outputs": [
        {
          "output_type": "stream",
          "name": "stdout",
          "text": [
            "Mounted at /content/gdrive/\n"
          ]
        }
      ],
      "source": [
        "from google.colab import drive\n",
        "drive.mount('/content/gdrive/')"
      ]
    },
    {
      "cell_type": "markdown",
      "metadata": {
        "id": "vg6RLG8AX73v"
      },
      "source": [
        "Append the directory to your python path using sys"
      ]
    },
    {
      "cell_type": "code",
      "execution_count": null,
      "metadata": {
        "id": "HwSblWSIX-qM"
      },
      "outputs": [],
      "source": [
        "import sys\n",
        "prefix = '/content/gdrive/My Drive/'\n",
        "# modify \"customized_path_to_your_homework\" here to where you uploaded your homework\n",
        "customized_path_to_your_homework = 'HW1/'\n",
        "sys_path = prefix + customized_path_to_your_homework\n",
        "sys.path.append(sys_path)"
      ]
    },
    {
      "cell_type": "markdown",
      "metadata": {
        "id": "Shi_GW74rBGx"
      },
      "source": [
        "Run some setup code for this notebook."
      ]
    },
    {
      "cell_type": "code",
      "execution_count": null,
      "metadata": {
        "id": "HNkFUWI8WX7u"
      },
      "outputs": [],
      "source": [
        "from __future__ import print_function\n",
        "import random\n",
        "import numpy as np\n",
        "import matplotlib.pyplot as plt\n",
        "\n",
        "# This is a bit of magic to make matplotlib figures appear inline in the notebook rather than in a new window.\n",
        "%matplotlib inline\n",
        "plt.rcParams['figure.figsize'] = (10.0, 8.0) # set default size of plots\n",
        "plt.rcParams['image.interpolation'] = 'nearest'\n",
        "plt.rcParams['image.cmap'] = 'gray'\n",
        "\n",
        "# Some more magic so that the notebook will reload external python modules;\n",
        "# see http://stackoverflow.com/questions/1907993/autoreload-of-modules-in-ipython\n",
        "%load_ext autoreload\n",
        "%autoreload 2"
      ]
    },
    {
      "cell_type": "markdown",
      "metadata": {
        "id": "whfPbRDScOBs"
      },
      "source": [
        "## Section 1. Logistic Regression [ 18 points ]\n",
        "\n",
        "In this problem, we’ll apply logistic regression to a data set of spam email. \n",
        "This data consists of 4601 email messages, from which 57 features have been extracted. These are as follows:\n",
        "- 48 features in [0, 100], giving the percentage of words in a given message which match a given\n",
        "word on a list containing, e.g., “business”, “free”, etc.\n",
        "- 6 features in [0, 100], giving the percentage of characters in the email that match characters on a\n",
        "list containing, e.g., “$”, “#”, etc.\n",
        "- Feature 55: The average length of an uninterrupted sequence of capital letters.\n",
        "- Feature 56: The length of the longest uninterrupted sequence of capital letters.\n",
        "- Feature 57: The sum of the lengths of uninterrupted sequences of capital letters.\n",
        "\n",
        "\n",
        "There are files spam.train.dat and spam.test.dat (provided in the assignment files) in which\n",
        "each row is an email. There are 3000 training and 1601 test examples. The final column in each file\n",
        "indicates whether the email was spam.\n",
        "\n",
        "The files can be loaded using the block of code below. You will answer the following questions using the data provided. "
      ]
    },
    {
      "cell_type": "code",
      "execution_count": null,
      "metadata": {
        "id": "Y88kiOiTcwKm"
      },
      "outputs": [],
      "source": [
        "prefix = \"/content/gdrive/My Drive/\"\n",
        "# modify \"customized_path_to_your_homework\" here to where your data is\n",
        "customized_path_to_your_homework = \"HW1/\"\n",
        "train_path = prefix + customized_path_to_your_homework + \"data/spam.train.dat\"\n",
        "\n",
        "\n",
        "train_set = np.genfromtxt(train_path)\n",
        "\n",
        "test_path = prefix + customized_path_to_your_homework + \"data/spam.test.dat\"\n",
        "test_set = np.genfromtxt(test_path)\n",
        "\n",
        "#split this into features \n",
        "train_set_features = train_set[:,:-1]\n",
        "test_set_features = test_set[:,:-1]\n",
        "\n",
        "train_set_output = train_set[:, 57]\n",
        "test_set_output = test_set[:, 57]\n"
      ]
    },
    {
      "cell_type": "markdown",
      "metadata": {
        "id": "wIM0eb1he8K2"
      },
      "source": [
        "### Question 1. [ 3 points ]\n",
        "\n",
        "Build a Logistic Regression model to classify whether an email is spam or not using the *spam* data set. Report your training and test performance."
      ]
    },
    {
      "cell_type": "code",
      "execution_count": null,
      "metadata": {
        "id": "Iqd_VTJuf5jz"
      },
      "outputs": [],
      "source": [
        "#Build your model\n",
        "\n",
        "from sklearn.linear_model import LogisticRegression\n",
        "from sklearn.model_selection import train_test_split\n",
        "from sklearn.preprocessing import StandardScaler\n",
        "\n",
        "scaler = StandardScaler()\n",
        "\n",
        "spam_X_train, spam_X_test, spam_y_train,spam_y_test = train_test_split(train_set_features,train_set_output, test_size=0.2, shuffle=True, stratify=train_set_output, random_state=42)\n",
        "\n",
        "spam_X_train = scaler.fit_transform(spam_X_train)\n",
        "spam_X_test = scaler.fit_transform(spam_X_test)\n",
        "test_set_features = scaler.fit_transform(test_set_features)\n",
        "\n",
        "\n",
        "log_reg = LogisticRegression()\n",
        "\n",
        "model = log_reg.fit(spam_X_train, spam_y_train)\n",
        "\n"
      ]
    },
    {
      "cell_type": "code",
      "execution_count": null,
      "metadata": {
        "id": "wy-OYYh9jigk",
        "colab": {
          "base_uri": "https://localhost:8080/"
        },
        "outputId": "d8ab9461-2d33-4f45-b7b0-0191e1f5c93a"
      },
      "outputs": [
        {
          "output_type": "stream",
          "name": "stdout",
          "text": [
            "Accuracy of training: 0.9233333333333333\n",
            "Accuracy of test: 0.9175515302935665\n"
          ]
        }
      ],
      "source": [
        "#Report training and test performance here\n",
        "print(f\"Accuracy of training: {log_reg.score(spam_X_test, spam_y_test)}\")\n",
        "print(f\"Accuracy of test: {log_reg.score(test_set_features, test_set_output)}\")"
      ]
    },
    {
      "cell_type": "markdown",
      "metadata": {
        "id": "APUOMYTGgHCv"
      },
      "source": [
        "### Question 2. [ 3 points ]\n",
        "\n",
        "Plot the learning curve for this model. What is the Bias/Variance trade-off for this model ?"
      ]
    },
    {
      "cell_type": "code",
      "execution_count": null,
      "metadata": {
        "id": "Muh9NYKxgmMu",
        "colab": {
          "base_uri": "https://localhost:8080/",
          "height": 513
        },
        "outputId": "231ed2c8-aac9-41c8-e07f-0eaefa0a2b10"
      },
      "outputs": [
        {
          "output_type": "display_data",
          "data": {
            "text/plain": [
              "<Figure size 720x576 with 1 Axes>"
            ],
            "image/png": "[encoded data removed]"
          },
          "metadata": {
            "needs_background": "light"
          }
        }
      ],
      "source": [
        "#Plot the learning curve\n",
        "from sklearn.model_selection import learning_curve\n",
        "\n",
        "#to get learning curve could try plotting mean squared error?\n",
        "\n",
        "\n",
        "train_sizes, train_scores, test_scores = learning_curve(model,spam_X_train,spam_y_train, cv = 5)\n",
        "\n",
        "plt.plot(train_sizes,np.mean(train_scores,axis=1), label = \"training accuracy\") \n",
        "plt.plot(train_sizes,np.mean(test_scores,axis=1), label = \"test accuracy\")\n",
        "\n",
        "plt.title('Learning Curve')\n",
        "plt.xlabel('Training Data Size')\n",
        "plt.ylabel('Model accuracy')\n",
        "plt.grid()\n",
        "plt.legend(loc='lower right')\n",
        "plt.show()\n",
        "\n",
        "\n",
        "\n"
      ]
    },
    {
      "cell_type": "code",
      "execution_count": null,
      "metadata": {
        "id": "SVr3IIaUjrQk",
        "colab": {
          "base_uri": "https://localhost:8080/",
          "height": 73
        },
        "outputId": "3522d0d1-66e8-43df-e32c-1007b6c69033"
      },
      "outputs": [
        {
          "output_type": "execute_result",
          "data": {
            "text/plain": [
              "\"This seems to be a relatively weel fit model as it doesn't seem to be overfit. There is a possibility one could argue that it is underfit, but it looks to be\\nrelatively well fit. This means that we don't have high bias or high variance for this model. If the model is underfit then it would be a high bias model with low\\nvariance\""
            ],
            "application/vnd.google.colaboratory.intrinsic+json": {
              "type": "string"
            }
          },
          "metadata": {},
          "execution_count": 14
        }
      ],
      "source": [
        "#Comment on the Bias/Variance trade-off \n",
        "\"\"\"This seems to be a relatively weel fit model as it doesn't seem to be overfit. There is a possibility one could argue that it is underfit, but it looks to be\n",
        "relatively well fit. This means that we don't have high bias or high variance for this model. If the model is underfit then it would be a high bias model with low\n",
        "variance\"\"\""
      ]
    },
    {
      "cell_type": "markdown",
      "metadata": {
        "id": "KOH01r2BgvMF"
      },
      "source": [
        "### Question 3. [ 3 points ]\n",
        "\n",
        "Apply L2-regularized logistic regression. Use cross-validation to determine an appropriate regularization penalty. Report your procedure and the value you find. What training and test performance do you get with this value?"
      ]
    },
    {
      "cell_type": "code",
      "execution_count": null,
      "metadata": {
        "id": "gupzh2L8g0xI",
        "colab": {
          "base_uri": "https://localhost:8080/"
        },
        "outputId": "ab37f08c-b4b5-4d32-fd38-b5f83bc09566"
      },
      "outputs": [
        {
          "output_type": "stream",
          "name": "stdout",
          "text": [
            "L2: Accuracy on the training subset: 0.927\n",
            "L2: Accuracy on the test subset: 0.923\n"
          ]
        }
      ],
      "source": [
        "#Apply L2-regularized logistic regression\n",
        "\n",
        "#built the logistic regression model using the built in logisitc regression, setting the penalty to l2 and set c to 1 to have stronger regularization since the\n",
        "#training data is relatively accurate\n",
        "lr2 = LogisticRegression(C=1, penalty='l2', tol=0.01)\n",
        "#fit the data\n",
        "lr2.fit(spam_X_train, spam_y_train)\n",
        "#get the scores\n",
        "print('L2: Accuracy on the training subset: {:.3f}'.format(lr2.score(spam_X_train, spam_y_train)))\n",
        "print('L2: Accuracy on the test subset: {:.3f}'.format(lr2.score(spam_X_test, spam_y_test)))\n",
        "\n"
      ]
    },
    {
      "cell_type": "code",
      "execution_count": null,
      "metadata": {
        "id": "mDgIrxlIj4OP"
      },
      "outputs": [],
      "source": [
        "#Perform cross-validation \n",
        "from sklearn.model_selection import KFold\n",
        "from sklearn.model_selection import cross_val_score\n",
        "#perform  10 fold cross validation\n",
        "\n",
        "kfold_cv = KFold(n_splits=10, random_state=42, shuffle=True)\n",
        "\n",
        "#get the scores using the lr2 model as input\n",
        "scores = cross_val_score(lr2, spam_X_train, spam_y_train, scoring=\"accuracy\", cv=kfold_cv)\n",
        "scores_test = cross_val_score(lr2, test_set_features, test_set_output, scoring=\"accuracy\", cv=kfold_cv)\n",
        "\n",
        "\n",
        "\n"
      ]
    },
    {
      "cell_type": "code",
      "execution_count": null,
      "metadata": {
        "id": "HkcnWrbFkL0V",
        "colab": {
          "base_uri": "https://localhost:8080/"
        },
        "outputId": "325668eb-855c-469b-f1be-baccef4f88c4"
      },
      "outputs": [
        {
          "output_type": "stream",
          "name": "stdout",
          "text": [
            "Mean training accuracy: 0.9179166666666667\n",
            "Training standard deviation: 0.02429920551970555\n",
            "Mean test accuracy: 0.919417701863354\n",
            "Test standard deviation: 0.02570595661119934\n"
          ]
        }
      ],
      "source": [
        "#Report your procedure and training and test performance\n",
        "\"\"\"\"Built the model using logistic regression setting the penalty to l2 and then used a low c value for higher regualarzation. I then fit the data\n",
        "based off this model and then compared to training and test results. I then performed 10 fold cross validation and got the scores for this results \n",
        "using cross validation and the lr2 model that I built.\"\"\"\n",
        "\n",
        "print(f\"Mean training accuracy: {np.mean(scores)}\")\n",
        "print(f\"Training standard deviation: {np.std(scores)}\")\\\n",
        "\n",
        "print(f\"Mean test accuracy: {np.mean(scores_test)}\")\n",
        "print(f\"Test standard deviation: {np.std(scores_test)}\")\\\n"
      ]
    },
    {
      "cell_type": "markdown",
      "metadata": {
        "id": "qwnfSzAhgv3D"
      },
      "source": [
        "### Question 4. [ 3 points ]\n",
        "\n",
        "Apply L1-regularized logistic regression. Use cross-validation to determine an appropriate regularization penalty. Report your procedure and the value you find. What training and test performance do you get with this value?"
      ]
    },
    {
      "cell_type": "code",
      "execution_count": null,
      "metadata": {
        "id": "isw6Jbm8jUGI",
        "colab": {
          "base_uri": "https://localhost:8080/"
        },
        "outputId": "a41b4ac7-6939-4145-dc10-1779adb16157"
      },
      "outputs": [
        {
          "output_type": "stream",
          "name": "stdout",
          "text": [
            "L1: Accuracy on the training subset: 0.925\n",
            "L1: Accuracy on the test subset: 0.927\n"
          ]
        }
      ],
      "source": [
        "#Apply L1-regularized logistic regression\n",
        "\n",
        "#built the logistic regression model using the built in logisitc regression, setting the penalty to l1 and set c to 1 to have better fit since training data is accurate\n",
        "lr1 = LogisticRegression(C=1, penalty='l1', tol=0.01, solver='liblinear')\n",
        "#fit the data\n",
        "lr1.fit(spam_X_train, spam_y_train)\n",
        "#get the scores\n",
        "print('L1: Accuracy on the training subset: {:.3f}'.format(lr1.score(spam_X_train, spam_y_train)))\n",
        "print('L1: Accuracy on the test subset: {:.3f}'.format(lr1.score(spam_X_test, spam_y_test)))\n",
        "\n"
      ]
    },
    {
      "cell_type": "code",
      "execution_count": null,
      "metadata": {
        "id": "lG9ZiW1okgXv"
      },
      "outputs": [],
      "source": [
        "#Perform cross-validation \n",
        "\n",
        "from sklearn.model_selection import KFold\n",
        "from sklearn.model_selection import cross_val_score\n",
        "#perform  10 fold cross validation\n",
        "kfold_cv = KFold(n_splits=10, random_state=42, shuffle=True)\n",
        "\n",
        "#get the scores using the lr1 model as input\n",
        "scores = cross_val_score(lr1, spam_X_train, spam_y_train, scoring=\"accuracy\", cv=kfold_cv)\n",
        "scores_test = cross_val_score(lr1, test_set_features, test_set_output, scoring=\"accuracy\", cv=kfold_cv)\n",
        "\n"
      ]
    },
    {
      "cell_type": "code",
      "execution_count": null,
      "metadata": {
        "id": "ILi8jNTMki2z",
        "colab": {
          "base_uri": "https://localhost:8080/"
        },
        "outputId": "9a7daaa1-b0ed-43a3-dede-7e5184cc3396"
      },
      "outputs": [
        {
          "output_type": "stream",
          "name": "stdout",
          "text": [
            "Mean training accuracy: 0.9166666666666667\n",
            "Training standard deviation: 0.023422448870925306\n",
            "Mean test accuracy: 0.917542701863354\n",
            "Test standard deviation: 0.027663210447893445\n"
          ]
        }
      ],
      "source": [
        "#Report your procedure and training and test performance\n",
        "\n",
        "\"\"\"\"Built the model using logistic regression setting the penalty to l1 and then used a low c=1 for better fit. I then fit the data\n",
        "based off this model and then compared to training and test results. I then performed 10 fold cross validation and got the scores for this results \n",
        "using cross validation and the lr1 model that I built.\"\"\"\n",
        "\n",
        "print(f\"Mean training accuracy: {np.mean(scores)}\")\n",
        "print(f\"Training standard deviation: {np.std(scores)}\")\\\n",
        "\n",
        "print(f\"Mean test accuracy: {np.mean(scores_test)}\")\n",
        "print(f\"Test standard deviation: {np.std(scores_test)}\")\\"
      ]
    },
    {
      "cell_type": "markdown",
      "metadata": {
        "id": "vEMnUbhNiKDv"
      },
      "source": [
        "### Question 5. [ 3 points ]\n",
        "\n",
        "What are the advantages and disadvantages of the two models with repect to this problem? For example, have there been a lot of sparceness in the model, or what kind of features have been removed?"
      ]
    },
    {
      "cell_type": "code",
      "execution_count": null,
      "metadata": {
        "id": "-NqGkLu0kz_u",
        "colab": {
          "base_uri": "https://localhost:8080/",
          "height": 91
        },
        "outputId": "cfc3bfd0-0cb1-4c9a-ae8f-e73a9a8509b3"
      },
      "outputs": [
        {
          "output_type": "execute_result",
          "data": {
            "text/plain": [
              "'The L1 regression will lead to a relatively sparse model since it will drive some of the coefficents of the features to 0. Whereas L2 tends to have a more full \\nmodel. In this case the L1 models tend to have higher accuracy as they perhaps filter out some fo the noise, but the L2 model does have a lower standard\\ndeviation for the test data. It seems because we have a large number of features that having a sparser model helps filter out some of the noise and lead to a better\\nmodel compared to trying to account for everything more fully as in L2. '"
            ],
            "application/vnd.google.colaboratory.intrinsic+json": {
              "type": "string"
            }
          },
          "metadata": {},
          "execution_count": 21
        }
      ],
      "source": [
        "# Advantages and disadvantages of the two models \n",
        "\"\"\"The L1 regression will lead to a relatively sparse model since it will drive some of the coefficents of the features to 0. Whereas L2 tends to have a more full \n",
        "model. In this case the L1 models tend to have higher accuracy as they perhaps filter out some fo the noise, but the L2 model does have a lower standard\n",
        "deviation for the test data. It seems because we have a large number of features that having a sparser model helps filter out some of the noise and lead to a better\n",
        "model compared to trying to account for everything more fully as in L2. \"\"\""
      ]
    },
    {
      "cell_type": "markdown",
      "metadata": {
        "id": "rmnlr_kTi2Rc"
      },
      "source": [
        "### Question 6. [3 points]\n",
        "\n",
        "Transform the features with the basis function of your choice. Retrain the two models above and report the model performances. Why did you choose this basis function ?"
      ]
    },
    {
      "cell_type": "code",
      "execution_count": null,
      "metadata": {
        "id": "s1hqUonfi10i",
        "colab": {
          "base_uri": "https://localhost:8080/",
          "height": 36
        },
        "outputId": "902d6a77-1cdf-48a6-c1e5-fc2191ae02ae"
      },
      "outputs": [
        {
          "output_type": "execute_result",
          "data": {
            "text/plain": [
              "'See above'"
            ],
            "application/vnd.google.colaboratory.intrinsic+json": {
              "type": "string"
            }
          },
          "metadata": {},
          "execution_count": 22
        }
      ],
      "source": [
        "# Advantages and disadvantages of the two models \n",
        "\"\"\"See above\"\"\""
      ]
    },
    {
      "cell_type": "code",
      "execution_count": null,
      "metadata": {
        "id": "RarKmxPMk7Eq"
      },
      "outputs": [],
      "source": [
        "#Retrain the two models above \n",
        "\n",
        "\n",
        "#I have used the gaussian function presented in the workshop for this problem provided by the TA. I have then utilized this function for my specific data \n",
        "\n",
        "from sklearn.base import BaseEstimator, TransformerMixin\n",
        "from sklearn.linear_model import Ridge\n",
        "from sklearn.metrics import mean_squared_error\n",
        "\n",
        "class GaussianBasis(BaseEstimator, TransformerMixin):\n",
        "    def __init__(self, basis_functions):\n",
        "        self.basis_functions = basis_functions \n",
        "    \n",
        "    @staticmethod\n",
        "    def _gaussian_basis(spam_X_gaussian, center, scale, axis=None):\n",
        "        return np.exp(-0.5 * np.sum((spam_X_gaussian - center) / scale) ** 2, axis))\n",
        "        \n",
        "    def fit(self, spam_X_gaussian, y=None):\n",
        "        self.centers = np.linspace(X.min(), spam_X_gaussian.max(), self.basis_functions) \n",
        "        self.scale = self.centers[1] - self.centers[0] \n",
        "        return self\n",
        "        \n",
        "    def transform(self, spam_X_gaussian):\n",
        "        return self._gaussian_basis(spam_X_gaussian[:, :, np.newaxis], self.centers, self.scale, axis=1)\n",
        "\n",
        "\n",
        "from sklearn.pipeline import make_pipeline\n",
        "\n",
        "gaussian_model = make_pipeline(GaussianBasis(20), Ridge())\n",
        "gaussian_model.fit(spam_X_train, spam_y_train)\n",
        "\n",
        "# Unsorted for MSE evaluation\n",
        "spam_y_pred = gaussian_model.predict(spam_X_test)\n",
        "\n",
        "from sklearn.model_selection import KFold\n",
        "from sklearn.model_selection import cross_val_score\n",
        "#perform  10 fold cross validation\n",
        "kfold_cv = KFold(n_splits=10, random_state=42, shuffle=True)\n",
        "\n",
        "#get the scores using the lr2 model as input\n",
        "scores_l2 = cross_val_score(lr2, spam_X_train, spam_y_train, scoring=\"accuracy\", cv=kfold_cv)\n",
        "scores_test_l2 = cross_val_score(lr2, test_set_features, test_set_output, scoring=\"accuracy\", cv=kfold_cv)\n",
        "\n",
        "\n",
        "#perform  10 fold cross validation\n",
        "kfold_cv = KFold(n_splits=10, random_state=42, shuffle=True)\n",
        "\n",
        "#get the scores using the lr1 model as input\n",
        "scores_l1 = cross_val_score(lr1, spam_X_train, spam_y_train, scoring=\"accuracy\", cv=kfold_cv)\n",
        "scores_test_l1 = cross_val_score(lr1, test_set_features, test_set_output, scoring=\"accuracy\", cv=kfold_cv)\n",
        "\n"
      ]
    },
    {
      "cell_type": "code",
      "execution_count": null,
      "metadata": {
        "id": "lsiLar7ulBz1",
        "colab": {
          "base_uri": "https://localhost:8080/"
        },
        "outputId": "978d32b7-f625-48f5-cd13-352e37fded54"
      },
      "outputs": [
        {
          "output_type": "stream",
          "name": "stdout",
          "text": [
            "Mean squared error: 0.23326326609902864\n",
            "L2 Mean training accuracy: 0.9179166666666667\n",
            "L2 Mean test accuracy: 0.919417701863354\n",
            "L1 Mean training accuracy: 0.9158333333333333\n",
            "L1 Mean test accuracy: 0.9175388198757763\n"
          ]
        }
      ],
      "source": [
        "#Report the model performances\n",
        "print(f\"Mean squared error: {mean_squared_error(spam_y_test, spam_y_pred)}\")\n",
        "\n",
        "print(f\"L2 Mean training accuracy: {np.mean(scores_l2)}\")\n",
        "\n",
        "print(f\"L2 Mean test accuracy: {np.mean(scores_test_l2)}\")\n",
        "\n",
        "print(f\"L1 Mean training accuracy: {np.mean(scores_l1)}\")\n",
        "\n",
        "print(f\"L1 Mean test accuracy: {np.mean(scores_test_l1)}\")\n",
        "\n",
        "#maybe check this"
      ]
    },
    {
      "cell_type": "code",
      "execution_count": null,
      "metadata": {
        "id": "zah5pS6kkH_5",
        "colab": {
          "base_uri": "https://localhost:8080/",
          "height": 73
        },
        "outputId": "9f6158f4-2024-4524-ec7b-70b1477427e0"
      },
      "outputs": [
        {
          "output_type": "execute_result",
          "data": {
            "text/plain": [
              "'I chose a gaussian basis function (that was provided by the TA from the workshop because I wanted to see how it would perform with this data. Frankly, I thought it would perform worse than it did.\\nSince this data felt like it could be somewhat scattered, it may have been tough for the model to classify. But I think it actually did quite well because\\nwe have an output that is just 1 or 0 and not a range of outputs that could make this perform worse.'"
            ],
            "application/vnd.google.colaboratory.intrinsic+json": {
              "type": "string"
            }
          },
          "metadata": {},
          "execution_count": 47
        }
      ],
      "source": [
        "#Why choosing this basis function?\n",
        "\"\"\"I chose a gaussian basis function (that was provided by the TA from the workshop because I wanted to see how it would perform with this data. Frankly, I thought it would perform worse than it did.\n",
        "Since this data felt like it could be somewhat scattered, it may have been tough for the model to classify. But I think it actually did quite well because\n",
        "we have an output that is just 1 or 0 and not a range of outputs that could make this perform worse.\"\"\""
      ]
    },
    {
      "cell_type": "markdown",
      "metadata": {
        "id": "i0Am_07CrKH_"
      },
      "source": [
        "# Section 2. MLE [15 pts]"
      ]
    },
    {
      "cell_type": "markdown",
      "metadata": {
        "id": "hTRlMoEkvcla"
      },
      "source": [
        "For the following problems, we will a collaborative filtering data set. These data\n",
        "are originally from http://eigentaste.berkeley.edu/dataset/, however, they have been altered somewhat for this HW, so you should use the files directly shared from us. These problems will only examine the marginal distribution of the ratings themselves. Assuming that the data set is in your homework path on google drive, the ratings can be loaded into your collab session using the block of code in the next cell. This will give you a 1761439 × 3 matrix of doubles. Right now we only care about the ratings, which are the third column. You’ll be asked to produce figures. Include these figures in your notebook."
      ]
    },
    {
      "cell_type": "code",
      "execution_count": null,
      "metadata": {
        "id": "QbQEPwxizLKa",
        "colab": {
          "base_uri": "https://localhost:8080/"
        },
        "outputId": "0cc3eb65-c8a3-4184-a8c2-80b1cb157002"
      },
      "outputs": [
        {
          "output_type": "execute_result",
          "data": {
            "text/plain": [
              "array([[ 1.000000e+00,  5.000000e+00,  2.275770e-01],\n",
              "       [ 1.000000e+00,  7.000000e+00, -9.279702e+00],\n",
              "       [ 1.000000e+00,  8.000000e+00, -9.267760e+00],\n",
              "       ...,\n",
              "       [ 6.397800e+04,  1.240000e+02, -9.022733e+00],\n",
              "       [ 6.397800e+04,  5.800000e+01, -8.644745e+00],\n",
              "       [ 6.397800e+04,  4.400000e+01, -8.445059e+00]])"
            ]
          },
          "metadata": {},
          "execution_count": 26
        }
      ],
      "source": [
        "prefix = '/content/gdrive/My Drive/'\n",
        "# modify \"customized_path_to_your_homework\" here to where your data is\n",
        "customized_path_to_your_homework = 'HW1/'\n",
        "data_path = prefix + customized_path_to_your_homework + 'data/jester_ratings.dat'\n",
        "data = np.genfromtxt(data_path)\n",
        "data"
      ]
    },
    {
      "cell_type": "markdown",
      "metadata": {
        "id": "0n6r6d8Nzpow"
      },
      "source": [
        "### Question 1. [ 5 points ]\n",
        "\n",
        "Generate a set of normalized histograms (histograms which have an area of one) of the ratings and\n",
        "qualitatively describe the empirical distributions that you see. Try several different bin sizes and explain your choices. Are the resulting density estimates uni- or multi-modal? Where do the peaks\n",
        "appear to be? Do these answers change as you vary the number of bins?"
      ]
    },
    {
      "cell_type": "code",
      "execution_count": null,
      "metadata": {
        "id": "bo3cSrISzpow",
        "colab": {
          "base_uri": "https://localhost:8080/",
          "height": 626
        },
        "outputId": "2edf2865-164a-47e2-e4f8-fc3c6725216c"
      },
      "outputs": [
        {
          "output_type": "display_data",
          "data": {
            "text/plain": [
              "<Figure size 720x576 with 1 Axes>"
            ],
            "image/png": "[encoded data removed]"
          },
          "metadata": {
            "needs_background": "light"
          }
        },
        {
          "output_type": "execute_result",
          "data": {
            "text/plain": [
              "'It seems there is a large spike towards the very end of the data, when the rating is close to 10. There is also a similar smaller spike towards the other end\\nof the histogram when the rating is -10. There is also a huge chunk of data from about -.25 to 2.5 that slowly trends downward until we reach 7.5 There\\nis also a spike in the data around -.25 that it never then goes below again.\\n\\nWith different bin sizes, we actually see the spike at 10 become more substantial and same with the small spike around -10. Outside of that, it becomes more\\nclear there is a general trend that the amount of data increases in each bin as we increase the rating generally.\\n\\nThis is a multi-modal density estimate at 10 and roughly 2.5. Depending on what bin size you set, you could make an argument for uni-modal density estimate if \\nyou are using a very large amount of bins. But I would say that mutli-modal is the best choice.\\n\\nThe peaks are generally around 2.5 and 10 in most cases. 10 becomes more promiment as we increase bin size. -10 is a localized peak. '"
            ],
            "application/vnd.google.colaboratory.intrinsic+json": {
              "type": "string"
            }
          },
          "metadata": {},
          "execution_count": 27
        }
      ],
      "source": [
        "# Your answer here (code, histogram, response to questions)\n",
        "#https://datatofish.com/numpy-array-to-pandas-dataframe/\n",
        "\n",
        "import pandas as pd\n",
        "\n",
        "df = pd.DataFrame(data, columns = ['Column_A','Column_B','ratings'])\n",
        "\n",
        "df[\"ratings\"].hist(bins=50, density = True)\n",
        "plt.xlabel(\"ratings\")\n",
        "plt.show()\n",
        "\n",
        "\"\"\"It seems there is a large spike towards the very end of the data, when the rating is close to 10. There is also a similar smaller spike towards the other end\n",
        "of the histogram when the rating is -10. There is also a huge chunk of data from about -.25 to 2.5 that slowly trends downward until we reach 7.5 There\n",
        "is also a spike in the data around -.25 that it never then goes below again.\n",
        "\n",
        "With different bin sizes, we actually see the spike at 10 become more substantial and same with the small spike around -10. Outside of that, it becomes more\n",
        "clear there is a general trend that the amount of data increases in each bin as we increase the rating generally.\n",
        "\n",
        "This is a multi-modal density estimate at 10 and roughly 2.5. Depending on what bin size you set, you could make an argument for uni-modal density estimate if \n",
        "you are using a very large amount of bins. But I would say that mutli-modal is the best choice.\n",
        "\n",
        "The peaks are generally around 2.5 and 10 in most cases. 10 becomes more promiment as we increase bin size. -10 is a localized peak. \"\"\"\n",
        "\n",
        "\n"
      ]
    },
    {
      "cell_type": "markdown",
      "metadata": {
        "id": "TsLbJtg1zpow"
      },
      "source": [
        "### Question 2. [ 5 points ]\n",
        "\n",
        "Perform a maximum-likelihood fit of a Gaussian distribution to the ratings and report the mean and\n",
        "variance. Overlay the MLE Gaussian fit on top of the normalized histogram. Is it a good fit or a bad fit\n",
        "and why?\n",
        "\n"
      ]
    },
    {
      "cell_type": "code",
      "execution_count": null,
      "metadata": {
        "id": "pYjgoOIwzpow"
      },
      "outputs": [],
      "source": [
        "#https://stats.stackexchange.com/questions/504004/how-do-we-code-a-maximum-likelihood-fitting-for-a-simple-gaussian-data\n",
        "\n",
        "## pick some x-values and compute true log PDF\n",
        "from scipy import stats\n",
        "import numpy as np\n",
        "from scipy.optimize import minimize\n",
        "import matplotlib.pyplot as plt\n",
        "\n",
        "def gaussian(params):\n",
        "    mean = params[0]   \n",
        "    sd = params[1]\n",
        "\n",
        "    # Calculate negative log likelihood\n",
        "    nll = -np.sum(stats.norm.logpdf(df[\"ratings\"], loc=mean, scale=sd))\n",
        "\n",
        "    return nll\n",
        "\n",
        "\n",
        "initParams = [1, 1]\n",
        "\n",
        "results = minimize(gaussian, initParams, method='Nelder-Mead')\n",
        "\n",
        "\n",
        "\n",
        "\n"
      ]
    },
    {
      "cell_type": "code",
      "execution_count": null,
      "metadata": {
        "id": "18qm7przkH_7",
        "colab": {
          "base_uri": "https://localhost:8080/"
        },
        "outputId": "8dbe6569-616c-4904-a513-72e0ec32bfde"
      },
      "outputs": [
        {
          "output_type": "stream",
          "name": "stdout",
          "text": [
            "The mean is:  1.6186007041726516\n",
            "The variance is:  28.117319037793557\n"
          ]
        }
      ],
      "source": [
        "# Report mean and variance\n",
        "print(\"The mean is: \", results.x[0])\n",
        "print(\"The variance is: \", results.x[1]*results.x[1])"
      ]
    },
    {
      "cell_type": "code",
      "execution_count": null,
      "metadata": {
        "id": "Ko8F5ex3kH_7",
        "colab": {
          "base_uri": "https://localhost:8080/",
          "height": 497
        },
        "outputId": "e26a794d-b49a-45ff-bd1e-d3a97d4534d0"
      },
      "outputs": [
        {
          "output_type": "display_data",
          "data": {
            "text/plain": [
              "<Figure size 720x576 with 1 Axes>"
            ],
            "image/png": "[encoded data removed]"
          },
          "metadata": {
            "needs_background": "light"
          }
        }
      ],
      "source": [
        "# Overlay two histograms\n",
        "from scipy.stats import norm\n",
        "df[\"ratings\"].hist(bins=50, density = True)\n",
        "x_axis = np.arange(-10, 10, .1)\n",
        "plt.plot(x_axis, norm.pdf(x_axis, results.x[0], results.x[1]))\n",
        "plt.xlabel(\"ratings\")\n",
        "plt.show()\n"
      ]
    },
    {
      "cell_type": "code",
      "execution_count": null,
      "metadata": {
        "id": "UwFSmvztkH_7",
        "colab": {
          "base_uri": "https://localhost:8080/",
          "height": 73
        },
        "outputId": "0b351d03-e6c0-44a6-aaf6-1b26eb6d3aa1"
      },
      "outputs": [
        {
          "output_type": "execute_result",
          "data": {
            "text/plain": [
              "\"The model fits well enough but not perfect. The spike towards 10 shows up in the gaussian curve as it doesn't go as low as it does on the other side. The \\npeak matches up roughly with where the peak in the actual measurements are and the trends in the data roughly match the curve/fit. Overall it is not perfect but\\nreasonable enough\""
            ],
            "application/vnd.google.colaboratory.intrinsic+json": {
              "type": "string"
            }
          },
          "metadata": {},
          "execution_count": 31
        }
      ],
      "source": [
        "# Explain model fit\n",
        "\"\"\"The model fits well enough but not perfect. The spike towards 10 shows up in the gaussian curve as it doesn't go as low as it does on the other side. The \n",
        "peak matches up roughly with where the peak in the actual measurements are and the trends in the data roughly match the curve/fit. Overall it is not perfect but\n",
        "reasonable enough\"\"\""
      ]
    },
    {
      "cell_type": "markdown",
      "metadata": {
        "id": "A5zJ0aObzpow"
      },
      "source": [
        "### Question 3. [ 5 points ]\n",
        "\n",
        "Randomly partition the data into ten disjoint sets (called folds) of approximately the same size. We will use these partitions to assess the generalization performance of these MLE fits. This is done by creating ten experiments where one fold is taken to be a “test” set and the remaining nine are together considered to be the “training” set. A model is fit on the training data and asked to make predictions of the test set. For a given model, this produces ten log probability numbers that reflect how well the model generalized to the unseen data. If the folds are of different size, the predictive log probabilities can be turned into “averages” by dividing the overall logprob by the number of test cases. Perform this procedure for your Gaussian histogram density estimators from Problem 1 and 2. That is, fit this model ten times on 9/10ths of the data and ask it to make predictions of the remaining 1/10th. To visualize the results, produce a boxplot of the average log probabilities."
      ]
    },
    {
      "cell_type": "code",
      "execution_count": null,
      "metadata": {
        "id": "GT4yKbJUzpow",
        "colab": {
          "base_uri": "https://localhost:8080/",
          "height": 483
        },
        "outputId": "8dc96a00-afc9-491f-edab-c5ebfb46ced1"
      },
      "outputs": [
        {
          "output_type": "display_data",
          "data": {
            "text/plain": [
              "<Figure size 720x576 with 1 Axes>"
            ],
            "image/png": "[encoded data removed]"
          },
          "metadata": {
            "needs_background": "light"
          }
        }
      ],
      "source": [
        "# Perform 10-fold cross validation\n",
        "from scipy import stats\n",
        "import numpy as np\n",
        "from scipy.optimize import minimize\n",
        "import matplotlib.pyplot as plt\n",
        "from scipy.stats import norm\n",
        "\n",
        "def gaussian(params):\n",
        "    mean = params[0]   \n",
        "    sd = params[1]\n",
        "\n",
        "    # Calculate negative log likelihood\n",
        "    nll = -np.sum(stats.norm.logpdf(df[\"ratings\"][train_index], loc=mean, scale=sd))\n",
        "\n",
        "    return nll\n",
        "\n",
        "\n",
        "initParams = [1, 1]\n",
        "\n",
        "\n",
        "from sklearn.model_selection import KFold\n",
        "kfold_cv = KFold(n_splits=10, random_state=42, shuffle=True)\n",
        "count =0\n",
        "for index, (train_index, val_index) in enumerate(kfold_cv.split(df[\"ratings\"])):\n",
        "  results = minimize(gaussian, initParams, method='Nelder-Mead')\n",
        "  norms = norm.pdf(df[\"ratings\"][val_index], results.x[0], results.x[1])\n",
        "  plt.boxplot(norms, notch=None, vert=None, patch_artist=None, widths=None)\n"
      ]
    },
    {
      "cell_type": "code",
      "execution_count": null,
      "metadata": {
        "id": "AGS6XsRCkH_7",
        "colab": {
          "base_uri": "https://localhost:8080/",
          "height": 36
        },
        "outputId": "deda73ac-00da-4e47-df81-40d1a1c03245"
      },
      "outputs": [
        {
          "output_type": "execute_result",
          "data": {
            "text/plain": [
              "'Please see above'"
            ],
            "application/vnd.google.colaboratory.intrinsic+json": {
              "type": "string"
            }
          },
          "metadata": {},
          "execution_count": 43
        }
      ],
      "source": [
        "# Visualize results\n",
        "\n",
        "\"\"\"Please see above\"\"\"\n"
      ]
    },
    {
      "cell_type": "markdown",
      "metadata": {
        "id": "f2C-Eupw4siz"
      },
      "source": [
        "## Section 3. Evaluation Questions  [7 points ]\n",
        "\n",
        "1. Suppose we fit a linear model to a polynomial data. Is this model a good fit? If not, is it underfitting or overfitting? [ 2 points ]\n"
      ]
    },
    {
      "cell_type": "markdown",
      "metadata": {
        "id": "Kiae0v324JTt"
      },
      "source": []
    },
    {
      "cell_type": "code",
      "execution_count": null,
      "metadata": {
        "id": "iY4hOfE_kH_8",
        "colab": {
          "base_uri": "https://localhost:8080/",
          "height": 73
        },
        "outputId": "d30038ad-4686-4ccd-f7f6-7be05e435717"
      },
      "outputs": [
        {
          "output_type": "execute_result",
          "data": {
            "text/plain": [
              "'It is not a good model fit this a linear model will not capture the polynomial growth of the data overtime leading to bad error. If the model is over a very\\nsmall range, such as 150 to 151 on the y-axis, then this could be a very good model fit since even though the data is polynomial, the range is so small\\nthat the data is very close to linear. If this is a bad model it will be underfit whereas a cubic function would be overfit.'"
            ],
            "application/vnd.google.colaboratory.intrinsic+json": {
              "type": "string"
            }
          },
          "metadata": {},
          "execution_count": 44
        }
      ],
      "source": [
        "# Your answer here\n",
        "\"\"\"It is not a good model fit this a linear model will not capture the polynomial growth of the data overtime leading to bad error. If the model is over a very\n",
        "small range, such as 150 to 151 on the y-axis, then this could be a very good model fit since even though the data is polynomial, the range is so small\n",
        "that the data is very close to linear. If this is a bad model it will be underfit whereas a cubic function would be overfit.\"\"\""
      ]
    },
    {
      "cell_type": "markdown",
      "metadata": {
        "id": "D1dEQooh4BKm"
      },
      "source": [
        "2.  How does cross validation address the problem of overfitting? Does it only identify (or detect) overfitting? Does it also eliminate (or at least reduce) overfitting? Explain\n",
        "your answers. [2.5 points ]\n"
      ]
    },
    {
      "cell_type": "markdown",
      "metadata": {
        "id": "gkoj9lFFkH_9"
      },
      "source": []
    },
    {
      "cell_type": "code",
      "execution_count": null,
      "metadata": {
        "id": "0TswcOPLkH_9",
        "colab": {
          "base_uri": "https://localhost:8080/",
          "height": 109
        },
        "outputId": "379e5f70-032d-4fe1-c060-21553657f3bc"
      },
      "outputs": [
        {
          "output_type": "execute_result",
          "data": {
            "text/plain": [
              "\"Cross validation helps by splitting up the data into multiple different subsets and excluding a portion of the data that acts as the test set. \\nIt then creates many different models and averages the results of these models together. This helps reduce overfitting because it helps averages out models\\nto create a better model that doesn't factor in noise or outliers as much that can lead to overfitting. This does reduce overfitting but it cannot \\neliminate it entirely, because if there is a lot of outliers or noise, it will not completely solve the problem. Additionally, in smaller datasets it is more\\nlikely to let us down as the noise is more prevelant.\""
            ],
            "application/vnd.google.colaboratory.intrinsic+json": {
              "type": "string"
            }
          },
          "metadata": {},
          "execution_count": 45
        }
      ],
      "source": [
        "# Your answer here\n",
        "\"\"\"Cross validation helps by splitting up the data into multiple different subsets and excluding a portion of the data that acts as the test set. \n",
        "It then creates many different models and averages the results of these models together. This helps reduce overfitting because it helps averages out models\n",
        "to create a better model that doesn't factor in noise or outliers as much that can lead to overfitting. This does reduce overfitting but it cannot \n",
        "eliminate it entirely, because if there is a lot of outliers or noise, it will not completely solve the problem. Additionally, in smaller datasets it is more\n",
        "likely to let us down as the noise is more prevelant.\"\"\""
      ]
    },
    {
      "cell_type": "markdown",
      "metadata": {
        "id": "734sFMrm4Ecj"
      },
      "source": [
        "3. Suppose you are given a dataset { (𝑥<sub>1</sub>, 𝑦<sub>1</sub>), (𝑥<sub>2</sub>, 𝑦<sub>2</sub>), ⋯ , (𝑥<sub>m</sub>, 𝑦<sub>m</sub>) } and you are asked to perform **5-fold cross-validation** for selecting the value of 𝜆 for $𝐿_2$ regularization for a regularized linear regression. Please describe the procedure of how you would select the value 𝜆. [2.5 points ]"
      ]
    },
    {
      "cell_type": "markdown",
      "metadata": {
        "id": "JwfnZiSC4Kqs"
      },
      "source": []
    },
    {
      "cell_type": "code",
      "execution_count": null,
      "metadata": {
        "id": "i0x5qr6KkH_9",
        "colab": {
          "base_uri": "https://localhost:8080/",
          "height": 54
        },
        "outputId": "42c48e8c-7c3f-45d1-a5a0-efcf7ae41c8b"
      },
      "outputs": [
        {
          "output_type": "execute_result",
          "data": {
            "text/plain": [
              "'\"We should first discretize lambda.\\nWe then calculate the cross-validation error for our model when using each value of lambda \\nWe then choose the lambda that gave us the least cross-validation error. '"
            ],
            "application/vnd.google.colaboratory.intrinsic+json": {
              "type": "string"
            }
          },
          "metadata": {},
          "execution_count": 46
        }
      ],
      "source": [
        "# Your answer here\n",
        "# reference: https://stats.stackexchange.com/questions/153744/how-to-use-cross-validation-with-regularization\n",
        "\"\"\"\"We should first discretize lambda.\n",
        "We then calculate the cross-validation error for our model when using each value of lambda \n",
        "We then choose the lambda that gave us the least cross-validation error. \"\"\""
      ]
    }
  ],
  "metadata": {
    "colab": {
      "collapsed_sections": [],
      "provenance": []
    },
    "kernelspec": {
      "display_name": "Python 3 (ipykernel)",
      "language": "python",
      "name": "python3"
    },
    "language_info": {
      "codemirror_mode": {
        "name": "ipython",
        "version": 3
      },
      "file_extension": ".py",
      "mimetype": "text/x-python",
      "name": "python",
      "nbconvert_exporter": "python",
      "pygments_lexer": "ipython3",
      "version": "3.10.7"
    }
  },
  "nbformat": 4,
  "nbformat_minor": 0
}